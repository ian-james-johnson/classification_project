{
 "cells": [
  {
   "cell_type": "code",
   "execution_count": 1,
   "id": "ba96660e",
   "metadata": {},
   "outputs": [],
   "source": [
    "import pandas as pd\n",
    "import numpy as np\n",
    "import matplotlib.pyplot as plt\n",
    "import seaborn as sns\n",
    "import scipy.stats as stats\n",
    "\n",
    "import os\n",
    "\n",
    "from sklearn.model_selection import train_test_split\n",
    "from sklearn.tree import DecisionTreeClassifier, plot_tree, export_text\n",
    "from sklearn.ensemble import RandomForestClassifier\n",
    "from sklearn.linear_model import LogisticRegression\n",
    "from sklearn.neighbors import KNeighborsClassifier\n",
    "from sklearn.metrics import classification_report, confusion_matrix, accuracy_score\n",
    "\n",
    "from env import user, password, host\n",
    "#import acquire\n",
    "#import prepare\n",
    "import explore"
   ]
  },
  {
   "cell_type": "markdown",
   "id": "f0cf06b3",
   "metadata": {},
   "source": [
    "# Project Planning <br>\n",
    "##### Acquire Date -> Prepare Data -> Explore Data -> Create Model -> Train Model -> Validate Model -> Test Model -> Present Findings"
   ]
  },
  {
   "cell_type": "markdown",
   "id": "50c078a6",
   "metadata": {},
   "source": [
    "# Acquire Data <br>\n",
    "###### Creating functions that will import data"
   ]
  },
  {
   "cell_type": "code",
   "execution_count": 2,
   "id": "edfcaad1",
   "metadata": {},
   "outputs": [],
   "source": [
    "# this function be used to access the SQL server\n",
    "# the user, host, and password will come from importing 'env'\n",
    "\n",
    "def get_connection(db, user=user, host=host, password=password):\n",
    "    '''\n",
    "    This function creates a connection to the Codeup db.\n",
    "    It takes db argument as a string name.\n",
    "    '''\n",
    "    return f'mysql+pymysql://{user}:{password}@{host}/{db}'"
   ]
  },
  {
   "cell_type": "code",
   "execution_count": 3,
   "id": "bf22fe62",
   "metadata": {},
   "outputs": [],
   "source": [
    "def new_telco_data():\n",
    "    '''\n",
    "    This function gets new telco data from the Codeup database.\n",
    "    '''\n",
    "    sql_query = \"\"\"\n",
    "                SELECT *\n",
    "                FROM customers\n",
    "                JOIN contract_types USING(contract_type_id)\n",
    "                JOIN internet_service_types USING(internet_service_type_id)\n",
    "                JOIN payment_types USING(payment_type_id);\n",
    "                \"\"\"\n",
    "    # Read in dataframe from Codeuo\n",
    "    df = pd.read_sql(sql_query,get_connection('telco_churn'))\n",
    "    return df"
   ]
  },
  {
   "cell_type": "code",
   "execution_count": 4,
   "id": "9dab4da3",
   "metadata": {},
   "outputs": [],
   "source": [
    "def get_telco_data():\n",
    "        '''\n",
    "        This function gets telco data from csv, or otherwise from Codeup database.\n",
    "        '''\n",
    "        if os.path.isfile('telco.csv'):\n",
    "            df = pd.read_csv('telco.csv', index_col = 0)\n",
    "        else:\n",
    "            df = new_telco_data()\n",
    "            df.to_csv('telco.csv')\n",
    "        return df"
   ]
  },
  {
   "cell_type": "code",
   "execution_count": 5,
   "id": "6762f2c0",
   "metadata": {},
   "outputs": [
    {
     "data": {
      "text/plain": [
       "<bound method NDFrame.head of       payment_type_id  internet_service_type_id  contract_type_id customer_id  \\\n",
       "0                   2                         1                 3  0016-QLJIS   \n",
       "1                   4                         1                 3  0017-DINOC   \n",
       "2                   3                         1                 3  0019-GFNTW   \n",
       "3                   4                         1                 3  0056-EPFBG   \n",
       "4                   3                         1                 3  0078-XZMHT   \n",
       "...               ...                       ...               ...         ...   \n",
       "7038                2                         3                 1  9962-BFPDU   \n",
       "7039                2                         3                 1  9967-ATRFS   \n",
       "7040                4                         3                 1  9970-QBCDA   \n",
       "7041                2                         3                 1  9975-SKRNR   \n",
       "7042                3                         3                 1  9986-BONCE   \n",
       "\n",
       "      gender  senior_citizen partner dependents  tenure phone_service  ...  \\\n",
       "0     Female               0     Yes        Yes      65           Yes  ...   \n",
       "1       Male               0      No         No      54            No  ...   \n",
       "2     Female               0      No         No      56            No  ...   \n",
       "3       Male               0     Yes        Yes      20            No  ...   \n",
       "4       Male               0     Yes         No      72           Yes  ...   \n",
       "...      ...             ...     ...        ...     ...           ...  ...   \n",
       "7038  Female               0     Yes        Yes       1           Yes  ...   \n",
       "7039  Female               0      No         No      19           Yes  ...   \n",
       "7040  Female               0      No         No       6           Yes  ...   \n",
       "7041    Male               0      No         No       1           Yes  ...   \n",
       "7042  Female               0      No         No       4           Yes  ...   \n",
       "\n",
       "             tech_support         streaming_tv     streaming_movies  \\\n",
       "0                     Yes                  Yes                  Yes   \n",
       "1                     Yes                  Yes                   No   \n",
       "2                     Yes                   No                   No   \n",
       "3                     Yes                   No                   No   \n",
       "4                     Yes                  Yes                  Yes   \n",
       "...                   ...                  ...                  ...   \n",
       "7038  No internet service  No internet service  No internet service   \n",
       "7039  No internet service  No internet service  No internet service   \n",
       "7040  No internet service  No internet service  No internet service   \n",
       "7041  No internet service  No internet service  No internet service   \n",
       "7042  No internet service  No internet service  No internet service   \n",
       "\n",
       "     paperless_billing monthly_charges total_charges churn   contract_type  \\\n",
       "0                  Yes           90.45        5957.9    No        Two year   \n",
       "1                   No           45.20       2460.55    No        Two year   \n",
       "2                   No           45.05        2560.1    No        Two year   \n",
       "3                  Yes           39.40         825.4    No        Two year   \n",
       "4                  Yes           85.15        6316.2    No        Two year   \n",
       "...                ...             ...           ...   ...             ...   \n",
       "7038                No           20.05         20.05    No  Month-to-month   \n",
       "7039                No           19.90        367.55    No  Month-to-month   \n",
       "7040                No           19.70        129.55    No  Month-to-month   \n",
       "7041                No           18.90          18.9    No  Month-to-month   \n",
       "7042                No           20.95          85.5   Yes  Month-to-month   \n",
       "\n",
       "      internet_service_type               payment_type  \n",
       "0                       DSL               Mailed check  \n",
       "1                       DSL    Credit card (automatic)  \n",
       "2                       DSL  Bank transfer (automatic)  \n",
       "3                       DSL    Credit card (automatic)  \n",
       "4                       DSL  Bank transfer (automatic)  \n",
       "...                     ...                        ...  \n",
       "7038                   None               Mailed check  \n",
       "7039                   None               Mailed check  \n",
       "7040                   None    Credit card (automatic)  \n",
       "7041                   None               Mailed check  \n",
       "7042                   None  Bank transfer (automatic)  \n",
       "\n",
       "[7043 rows x 24 columns]>"
      ]
     },
     "execution_count": 5,
     "metadata": {},
     "output_type": "execute_result"
    }
   ],
   "source": [
    "df = get_telco_data()\n",
    "df.head"
   ]
  },
  {
   "cell_type": "code",
   "execution_count": 6,
   "id": "4838de5a",
   "metadata": {},
   "outputs": [
    {
     "data": {
      "text/html": [
       "<div>\n",
       "<style scoped>\n",
       "    .dataframe tbody tr th:only-of-type {\n",
       "        vertical-align: middle;\n",
       "    }\n",
       "\n",
       "    .dataframe tbody tr th {\n",
       "        vertical-align: top;\n",
       "    }\n",
       "\n",
       "    .dataframe thead th {\n",
       "        text-align: right;\n",
       "    }\n",
       "</style>\n",
       "<table border=\"1\" class=\"dataframe\">\n",
       "  <thead>\n",
       "    <tr style=\"text-align: right;\">\n",
       "      <th></th>\n",
       "      <th>payment_type_id</th>\n",
       "      <th>internet_service_type_id</th>\n",
       "      <th>contract_type_id</th>\n",
       "      <th>customer_id</th>\n",
       "      <th>gender</th>\n",
       "      <th>senior_citizen</th>\n",
       "      <th>partner</th>\n",
       "      <th>dependents</th>\n",
       "      <th>tenure</th>\n",
       "      <th>phone_service</th>\n",
       "      <th>...</th>\n",
       "      <th>tech_support</th>\n",
       "      <th>streaming_tv</th>\n",
       "      <th>streaming_movies</th>\n",
       "      <th>paperless_billing</th>\n",
       "      <th>monthly_charges</th>\n",
       "      <th>total_charges</th>\n",
       "      <th>churn</th>\n",
       "      <th>contract_type</th>\n",
       "      <th>internet_service_type</th>\n",
       "      <th>payment_type</th>\n",
       "    </tr>\n",
       "  </thead>\n",
       "  <tbody>\n",
       "    <tr>\n",
       "      <th>0</th>\n",
       "      <td>2</td>\n",
       "      <td>1</td>\n",
       "      <td>3</td>\n",
       "      <td>0016-QLJIS</td>\n",
       "      <td>Female</td>\n",
       "      <td>0</td>\n",
       "      <td>Yes</td>\n",
       "      <td>Yes</td>\n",
       "      <td>65</td>\n",
       "      <td>Yes</td>\n",
       "      <td>...</td>\n",
       "      <td>Yes</td>\n",
       "      <td>Yes</td>\n",
       "      <td>Yes</td>\n",
       "      <td>Yes</td>\n",
       "      <td>90.45</td>\n",
       "      <td>5957.9</td>\n",
       "      <td>No</td>\n",
       "      <td>Two year</td>\n",
       "      <td>DSL</td>\n",
       "      <td>Mailed check</td>\n",
       "    </tr>\n",
       "    <tr>\n",
       "      <th>1</th>\n",
       "      <td>4</td>\n",
       "      <td>1</td>\n",
       "      <td>3</td>\n",
       "      <td>0017-DINOC</td>\n",
       "      <td>Male</td>\n",
       "      <td>0</td>\n",
       "      <td>No</td>\n",
       "      <td>No</td>\n",
       "      <td>54</td>\n",
       "      <td>No</td>\n",
       "      <td>...</td>\n",
       "      <td>Yes</td>\n",
       "      <td>Yes</td>\n",
       "      <td>No</td>\n",
       "      <td>No</td>\n",
       "      <td>45.20</td>\n",
       "      <td>2460.55</td>\n",
       "      <td>No</td>\n",
       "      <td>Two year</td>\n",
       "      <td>DSL</td>\n",
       "      <td>Credit card (automatic)</td>\n",
       "    </tr>\n",
       "    <tr>\n",
       "      <th>2</th>\n",
       "      <td>3</td>\n",
       "      <td>1</td>\n",
       "      <td>3</td>\n",
       "      <td>0019-GFNTW</td>\n",
       "      <td>Female</td>\n",
       "      <td>0</td>\n",
       "      <td>No</td>\n",
       "      <td>No</td>\n",
       "      <td>56</td>\n",
       "      <td>No</td>\n",
       "      <td>...</td>\n",
       "      <td>Yes</td>\n",
       "      <td>No</td>\n",
       "      <td>No</td>\n",
       "      <td>No</td>\n",
       "      <td>45.05</td>\n",
       "      <td>2560.1</td>\n",
       "      <td>No</td>\n",
       "      <td>Two year</td>\n",
       "      <td>DSL</td>\n",
       "      <td>Bank transfer (automatic)</td>\n",
       "    </tr>\n",
       "    <tr>\n",
       "      <th>3</th>\n",
       "      <td>4</td>\n",
       "      <td>1</td>\n",
       "      <td>3</td>\n",
       "      <td>0056-EPFBG</td>\n",
       "      <td>Male</td>\n",
       "      <td>0</td>\n",
       "      <td>Yes</td>\n",
       "      <td>Yes</td>\n",
       "      <td>20</td>\n",
       "      <td>No</td>\n",
       "      <td>...</td>\n",
       "      <td>Yes</td>\n",
       "      <td>No</td>\n",
       "      <td>No</td>\n",
       "      <td>Yes</td>\n",
       "      <td>39.40</td>\n",
       "      <td>825.4</td>\n",
       "      <td>No</td>\n",
       "      <td>Two year</td>\n",
       "      <td>DSL</td>\n",
       "      <td>Credit card (automatic)</td>\n",
       "    </tr>\n",
       "    <tr>\n",
       "      <th>4</th>\n",
       "      <td>3</td>\n",
       "      <td>1</td>\n",
       "      <td>3</td>\n",
       "      <td>0078-XZMHT</td>\n",
       "      <td>Male</td>\n",
       "      <td>0</td>\n",
       "      <td>Yes</td>\n",
       "      <td>No</td>\n",
       "      <td>72</td>\n",
       "      <td>Yes</td>\n",
       "      <td>...</td>\n",
       "      <td>Yes</td>\n",
       "      <td>Yes</td>\n",
       "      <td>Yes</td>\n",
       "      <td>Yes</td>\n",
       "      <td>85.15</td>\n",
       "      <td>6316.2</td>\n",
       "      <td>No</td>\n",
       "      <td>Two year</td>\n",
       "      <td>DSL</td>\n",
       "      <td>Bank transfer (automatic)</td>\n",
       "    </tr>\n",
       "  </tbody>\n",
       "</table>\n",
       "<p>5 rows × 24 columns</p>\n",
       "</div>"
      ],
      "text/plain": [
       "   payment_type_id  internet_service_type_id  contract_type_id customer_id  \\\n",
       "0                2                         1                 3  0016-QLJIS   \n",
       "1                4                         1                 3  0017-DINOC   \n",
       "2                3                         1                 3  0019-GFNTW   \n",
       "3                4                         1                 3  0056-EPFBG   \n",
       "4                3                         1                 3  0078-XZMHT   \n",
       "\n",
       "   gender  senior_citizen partner dependents  tenure phone_service  ...  \\\n",
       "0  Female               0     Yes        Yes      65           Yes  ...   \n",
       "1    Male               0      No         No      54            No  ...   \n",
       "2  Female               0      No         No      56            No  ...   \n",
       "3    Male               0     Yes        Yes      20            No  ...   \n",
       "4    Male               0     Yes         No      72           Yes  ...   \n",
       "\n",
       "  tech_support streaming_tv streaming_movies paperless_billing  \\\n",
       "0          Yes          Yes              Yes               Yes   \n",
       "1          Yes          Yes               No                No   \n",
       "2          Yes           No               No                No   \n",
       "3          Yes           No               No               Yes   \n",
       "4          Yes          Yes              Yes               Yes   \n",
       "\n",
       "  monthly_charges total_charges churn contract_type  internet_service_type  \\\n",
       "0           90.45        5957.9    No      Two year                    DSL   \n",
       "1           45.20       2460.55    No      Two year                    DSL   \n",
       "2           45.05        2560.1    No      Two year                    DSL   \n",
       "3           39.40         825.4    No      Two year                    DSL   \n",
       "4           85.15        6316.2    No      Two year                    DSL   \n",
       "\n",
       "                payment_type  \n",
       "0               Mailed check  \n",
       "1    Credit card (automatic)  \n",
       "2  Bank transfer (automatic)  \n",
       "3    Credit card (automatic)  \n",
       "4  Bank transfer (automatic)  \n",
       "\n",
       "[5 rows x 24 columns]"
      ]
     },
     "execution_count": 6,
     "metadata": {},
     "output_type": "execute_result"
    }
   ],
   "source": [
    "df = pd.DataFrame(df)\n",
    "df.head()"
   ]
  },
  {
   "cell_type": "code",
   "execution_count": 7,
   "id": "17c45d74",
   "metadata": {},
   "outputs": [
    {
     "data": {
      "text/plain": [
       "(7043, 24)"
      ]
     },
     "execution_count": 7,
     "metadata": {},
     "output_type": "execute_result"
    }
   ],
   "source": [
    "df.shape"
   ]
  },
  {
   "cell_type": "code",
   "execution_count": 8,
   "id": "655fabda",
   "metadata": {},
   "outputs": [
    {
     "name": "stdout",
     "output_type": "stream",
     "text": [
      "<class 'pandas.core.frame.DataFrame'>\n",
      "Int64Index: 7043 entries, 0 to 7042\n",
      "Data columns (total 24 columns):\n",
      " #   Column                    Non-Null Count  Dtype  \n",
      "---  ------                    --------------  -----  \n",
      " 0   payment_type_id           7043 non-null   int64  \n",
      " 1   internet_service_type_id  7043 non-null   int64  \n",
      " 2   contract_type_id          7043 non-null   int64  \n",
      " 3   customer_id               7043 non-null   object \n",
      " 4   gender                    7043 non-null   object \n",
      " 5   senior_citizen            7043 non-null   int64  \n",
      " 6   partner                   7043 non-null   object \n",
      " 7   dependents                7043 non-null   object \n",
      " 8   tenure                    7043 non-null   int64  \n",
      " 9   phone_service             7043 non-null   object \n",
      " 10  multiple_lines            7043 non-null   object \n",
      " 11  online_security           7043 non-null   object \n",
      " 12  online_backup             7043 non-null   object \n",
      " 13  device_protection         7043 non-null   object \n",
      " 14  tech_support              7043 non-null   object \n",
      " 15  streaming_tv              7043 non-null   object \n",
      " 16  streaming_movies          7043 non-null   object \n",
      " 17  paperless_billing         7043 non-null   object \n",
      " 18  monthly_charges           7043 non-null   float64\n",
      " 19  total_charges             7043 non-null   object \n",
      " 20  churn                     7043 non-null   object \n",
      " 21  contract_type             7043 non-null   object \n",
      " 22  internet_service_type     7043 non-null   object \n",
      " 23  payment_type              7043 non-null   object \n",
      "dtypes: float64(1), int64(5), object(18)\n",
      "memory usage: 1.3+ MB\n"
     ]
    }
   ],
   "source": [
    "df.info()"
   ]
  },
  {
   "cell_type": "code",
   "execution_count": 9,
   "id": "11dc8d16",
   "metadata": {},
   "outputs": [
    {
     "data": {
      "text/html": [
       "<div>\n",
       "<style scoped>\n",
       "    .dataframe tbody tr th:only-of-type {\n",
       "        vertical-align: middle;\n",
       "    }\n",
       "\n",
       "    .dataframe tbody tr th {\n",
       "        vertical-align: top;\n",
       "    }\n",
       "\n",
       "    .dataframe thead th {\n",
       "        text-align: right;\n",
       "    }\n",
       "</style>\n",
       "<table border=\"1\" class=\"dataframe\">\n",
       "  <thead>\n",
       "    <tr style=\"text-align: right;\">\n",
       "      <th></th>\n",
       "      <th>count</th>\n",
       "      <th>mean</th>\n",
       "      <th>std</th>\n",
       "      <th>min</th>\n",
       "      <th>25%</th>\n",
       "      <th>50%</th>\n",
       "      <th>75%</th>\n",
       "      <th>max</th>\n",
       "    </tr>\n",
       "  </thead>\n",
       "  <tbody>\n",
       "    <tr>\n",
       "      <th>payment_type_id</th>\n",
       "      <td>7043.0</td>\n",
       "      <td>2.315633</td>\n",
       "      <td>1.148907</td>\n",
       "      <td>1.00</td>\n",
       "      <td>1.0</td>\n",
       "      <td>2.00</td>\n",
       "      <td>3.00</td>\n",
       "      <td>4.00</td>\n",
       "    </tr>\n",
       "    <tr>\n",
       "      <th>internet_service_type_id</th>\n",
       "      <td>7043.0</td>\n",
       "      <td>1.872923</td>\n",
       "      <td>0.737796</td>\n",
       "      <td>1.00</td>\n",
       "      <td>1.0</td>\n",
       "      <td>2.00</td>\n",
       "      <td>2.00</td>\n",
       "      <td>3.00</td>\n",
       "    </tr>\n",
       "    <tr>\n",
       "      <th>contract_type_id</th>\n",
       "      <td>7043.0</td>\n",
       "      <td>1.690473</td>\n",
       "      <td>0.833755</td>\n",
       "      <td>1.00</td>\n",
       "      <td>1.0</td>\n",
       "      <td>1.00</td>\n",
       "      <td>2.00</td>\n",
       "      <td>3.00</td>\n",
       "    </tr>\n",
       "    <tr>\n",
       "      <th>senior_citizen</th>\n",
       "      <td>7043.0</td>\n",
       "      <td>0.162147</td>\n",
       "      <td>0.368612</td>\n",
       "      <td>0.00</td>\n",
       "      <td>0.0</td>\n",
       "      <td>0.00</td>\n",
       "      <td>0.00</td>\n",
       "      <td>1.00</td>\n",
       "    </tr>\n",
       "    <tr>\n",
       "      <th>tenure</th>\n",
       "      <td>7043.0</td>\n",
       "      <td>32.371149</td>\n",
       "      <td>24.559481</td>\n",
       "      <td>0.00</td>\n",
       "      <td>9.0</td>\n",
       "      <td>29.00</td>\n",
       "      <td>55.00</td>\n",
       "      <td>72.00</td>\n",
       "    </tr>\n",
       "    <tr>\n",
       "      <th>monthly_charges</th>\n",
       "      <td>7043.0</td>\n",
       "      <td>64.761692</td>\n",
       "      <td>30.090047</td>\n",
       "      <td>18.25</td>\n",
       "      <td>35.5</td>\n",
       "      <td>70.35</td>\n",
       "      <td>89.85</td>\n",
       "      <td>118.75</td>\n",
       "    </tr>\n",
       "  </tbody>\n",
       "</table>\n",
       "</div>"
      ],
      "text/plain": [
       "                           count       mean        std    min   25%    50%  \\\n",
       "payment_type_id           7043.0   2.315633   1.148907   1.00   1.0   2.00   \n",
       "internet_service_type_id  7043.0   1.872923   0.737796   1.00   1.0   2.00   \n",
       "contract_type_id          7043.0   1.690473   0.833755   1.00   1.0   1.00   \n",
       "senior_citizen            7043.0   0.162147   0.368612   0.00   0.0   0.00   \n",
       "tenure                    7043.0  32.371149  24.559481   0.00   9.0  29.00   \n",
       "monthly_charges           7043.0  64.761692  30.090047  18.25  35.5  70.35   \n",
       "\n",
       "                            75%     max  \n",
       "payment_type_id            3.00    4.00  \n",
       "internet_service_type_id   2.00    3.00  \n",
       "contract_type_id           2.00    3.00  \n",
       "senior_citizen             0.00    1.00  \n",
       "tenure                    55.00   72.00  \n",
       "monthly_charges           89.85  118.75  "
      ]
     },
     "execution_count": 9,
     "metadata": {},
     "output_type": "execute_result"
    }
   ],
   "source": [
    "df.describe().T"
   ]
  },
  {
   "cell_type": "code",
   "execution_count": 10,
   "id": "abd91fbb",
   "metadata": {},
   "outputs": [],
   "source": [
    "def object_vals(df):\n",
    "    for col in df.columns:\n",
    "        if df[col].dtype == 'object':\n",
    "            print(df[col].value_counts(dropna = False))"
   ]
  },
  {
   "cell_type": "code",
   "execution_count": 11,
   "id": "716aed56",
   "metadata": {},
   "outputs": [],
   "source": [
    "def col_range(df):\n",
    "    stats_df = df.describe().T\n",
    "    stats_df['range'] = stats_df['max'] - stats_df['min']\n",
    "    return stats_df"
   ]
  },
  {
   "cell_type": "code",
   "execution_count": 12,
   "id": "3bcc0a49",
   "metadata": {},
   "outputs": [],
   "source": [
    "# Create a function to summaris my dataframe\n",
    "\n",
    "def summarize_df(df):\n",
    "    print(f'The dataframe has {df.shape[0]} rows and {df.shape[1]} columns.')\n",
    "    print('------------------------------------------------------')\n",
    "    print(df.info())\n",
    "    print('------------------------------------------------------')\n",
    "    print(df.head())\n",
    "    print('------------------------------------------------------')\n",
    "    object_vals(df)\n",
    "    print('------------------------------------------------------')\n",
    "    print(col_range(df))\n",
    "    "
   ]
  },
  {
   "cell_type": "code",
   "execution_count": 13,
   "id": "c6c2cb95",
   "metadata": {},
   "outputs": [
    {
     "name": "stdout",
     "output_type": "stream",
     "text": [
      "The dataframe has 7043 rows and 24 columns.\n",
      "------------------------------------------------------\n",
      "<class 'pandas.core.frame.DataFrame'>\n",
      "Int64Index: 7043 entries, 0 to 7042\n",
      "Data columns (total 24 columns):\n",
      " #   Column                    Non-Null Count  Dtype  \n",
      "---  ------                    --------------  -----  \n",
      " 0   payment_type_id           7043 non-null   int64  \n",
      " 1   internet_service_type_id  7043 non-null   int64  \n",
      " 2   contract_type_id          7043 non-null   int64  \n",
      " 3   customer_id               7043 non-null   object \n",
      " 4   gender                    7043 non-null   object \n",
      " 5   senior_citizen            7043 non-null   int64  \n",
      " 6   partner                   7043 non-null   object \n",
      " 7   dependents                7043 non-null   object \n",
      " 8   tenure                    7043 non-null   int64  \n",
      " 9   phone_service             7043 non-null   object \n",
      " 10  multiple_lines            7043 non-null   object \n",
      " 11  online_security           7043 non-null   object \n",
      " 12  online_backup             7043 non-null   object \n",
      " 13  device_protection         7043 non-null   object \n",
      " 14  tech_support              7043 non-null   object \n",
      " 15  streaming_tv              7043 non-null   object \n",
      " 16  streaming_movies          7043 non-null   object \n",
      " 17  paperless_billing         7043 non-null   object \n",
      " 18  monthly_charges           7043 non-null   float64\n",
      " 19  total_charges             7043 non-null   object \n",
      " 20  churn                     7043 non-null   object \n",
      " 21  contract_type             7043 non-null   object \n",
      " 22  internet_service_type     7043 non-null   object \n",
      " 23  payment_type              7043 non-null   object \n",
      "dtypes: float64(1), int64(5), object(18)\n",
      "memory usage: 1.3+ MB\n",
      "None\n",
      "------------------------------------------------------\n",
      "   payment_type_id  internet_service_type_id  contract_type_id customer_id  \\\n",
      "0                2                         1                 3  0016-QLJIS   \n",
      "1                4                         1                 3  0017-DINOC   \n",
      "2                3                         1                 3  0019-GFNTW   \n",
      "3                4                         1                 3  0056-EPFBG   \n",
      "4                3                         1                 3  0078-XZMHT   \n",
      "\n",
      "   gender  senior_citizen partner dependents  tenure phone_service  ...  \\\n",
      "0  Female               0     Yes        Yes      65           Yes  ...   \n",
      "1    Male               0      No         No      54            No  ...   \n",
      "2  Female               0      No         No      56            No  ...   \n",
      "3    Male               0     Yes        Yes      20            No  ...   \n",
      "4    Male               0     Yes         No      72           Yes  ...   \n",
      "\n",
      "  tech_support streaming_tv streaming_movies paperless_billing  \\\n",
      "0          Yes          Yes              Yes               Yes   \n",
      "1          Yes          Yes               No                No   \n",
      "2          Yes           No               No                No   \n",
      "3          Yes           No               No               Yes   \n",
      "4          Yes          Yes              Yes               Yes   \n",
      "\n",
      "  monthly_charges total_charges churn contract_type  internet_service_type  \\\n",
      "0           90.45        5957.9    No      Two year                    DSL   \n",
      "1           45.20       2460.55    No      Two year                    DSL   \n",
      "2           45.05        2560.1    No      Two year                    DSL   \n",
      "3           39.40         825.4    No      Two year                    DSL   \n",
      "4           85.15        6316.2    No      Two year                    DSL   \n",
      "\n",
      "                payment_type  \n",
      "0               Mailed check  \n",
      "1    Credit card (automatic)  \n",
      "2  Bank transfer (automatic)  \n",
      "3    Credit card (automatic)  \n",
      "4  Bank transfer (automatic)  \n",
      "\n",
      "[5 rows x 24 columns]\n",
      "------------------------------------------------------\n",
      "2208-NKVVH    1\n",
      "8701-DGLVH    1\n",
      "5203-XEHAX    1\n",
      "6103-BOCOU    1\n",
      "9103-CXVOK    1\n",
      "             ..\n",
      "2164-SOQXL    1\n",
      "4547-LYTDD    1\n",
      "7797-EJMDP    1\n",
      "2542-HYGIQ    1\n",
      "8060-HIWJJ    1\n",
      "Name: customer_id, Length: 7043, dtype: int64\n",
      "Male      3555\n",
      "Female    3488\n",
      "Name: gender, dtype: int64\n",
      "No     3641\n",
      "Yes    3402\n",
      "Name: partner, dtype: int64\n",
      "No     4933\n",
      "Yes    2110\n",
      "Name: dependents, dtype: int64\n",
      "Yes    6361\n",
      "No      682\n",
      "Name: phone_service, dtype: int64\n",
      "No                  3390\n",
      "Yes                 2971\n",
      "No phone service     682\n",
      "Name: multiple_lines, dtype: int64\n",
      "No                     3498\n",
      "Yes                    2019\n",
      "No internet service    1526\n",
      "Name: online_security, dtype: int64\n",
      "No                     3088\n",
      "Yes                    2429\n",
      "No internet service    1526\n",
      "Name: online_backup, dtype: int64\n",
      "No                     3095\n",
      "Yes                    2422\n",
      "No internet service    1526\n",
      "Name: device_protection, dtype: int64\n",
      "No                     3473\n",
      "Yes                    2044\n",
      "No internet service    1526\n",
      "Name: tech_support, dtype: int64\n",
      "No                     2810\n",
      "Yes                    2707\n",
      "No internet service    1526\n",
      "Name: streaming_tv, dtype: int64\n",
      "No                     2785\n",
      "Yes                    2732\n",
      "No internet service    1526\n",
      "Name: streaming_movies, dtype: int64\n",
      "Yes    4171\n",
      "No     2872\n",
      "Name: paperless_billing, dtype: int64\n",
      "           11\n",
      "20.2       11\n",
      "19.75       9\n",
      "20.05       8\n",
      "19.65       8\n",
      "           ..\n",
      "2867.75     1\n",
      "1734.2      1\n",
      "4230.25     1\n",
      "655.85      1\n",
      "896.75      1\n",
      "Name: total_charges, Length: 6531, dtype: int64\n",
      "No     5174\n",
      "Yes    1869\n",
      "Name: churn, dtype: int64\n",
      "Month-to-month    3875\n",
      "Two year          1695\n",
      "One year          1473\n",
      "Name: contract_type, dtype: int64\n",
      "Fiber optic    3096\n",
      "DSL            2421\n",
      "None           1526\n",
      "Name: internet_service_type, dtype: int64\n",
      "Electronic check             2365\n",
      "Mailed check                 1612\n",
      "Bank transfer (automatic)    1544\n",
      "Credit card (automatic)      1522\n",
      "Name: payment_type, dtype: int64\n",
      "------------------------------------------------------\n",
      "                           count       mean        std    min   25%    50%  \\\n",
      "payment_type_id           7043.0   2.315633   1.148907   1.00   1.0   2.00   \n",
      "internet_service_type_id  7043.0   1.872923   0.737796   1.00   1.0   2.00   \n",
      "contract_type_id          7043.0   1.690473   0.833755   1.00   1.0   1.00   \n",
      "senior_citizen            7043.0   0.162147   0.368612   0.00   0.0   0.00   \n",
      "tenure                    7043.0  32.371149  24.559481   0.00   9.0  29.00   \n",
      "monthly_charges           7043.0  64.761692  30.090047  18.25  35.5  70.35   \n",
      "\n",
      "                            75%     max  range  \n",
      "payment_type_id            3.00    4.00    3.0  \n",
      "internet_service_type_id   2.00    3.00    2.0  \n",
      "contract_type_id           2.00    3.00    2.0  \n",
      "senior_citizen             0.00    1.00    1.0  \n",
      "tenure                    55.00   72.00   72.0  \n",
      "monthly_charges           89.85  118.75  100.5  \n"
     ]
    }
   ],
   "source": [
    "summarize_df(df)"
   ]
  },
  {
   "cell_type": "markdown",
   "id": "9506fb19",
   "metadata": {},
   "source": [
    "# Prepare Data"
   ]
  },
  {
   "cell_type": "code",
   "execution_count": 14,
   "id": "f4b564c1",
   "metadata": {},
   "outputs": [
    {
     "data": {
      "text/plain": [
       "payment_type_id             0\n",
       "internet_service_type_id    0\n",
       "contract_type_id            0\n",
       "customer_id                 0\n",
       "gender                      0\n",
       "senior_citizen              0\n",
       "partner                     0\n",
       "dependents                  0\n",
       "tenure                      0\n",
       "phone_service               0\n",
       "multiple_lines              0\n",
       "online_security             0\n",
       "online_backup               0\n",
       "device_protection           0\n",
       "tech_support                0\n",
       "streaming_tv                0\n",
       "streaming_movies            0\n",
       "paperless_billing           0\n",
       "monthly_charges             0\n",
       "total_charges               0\n",
       "churn                       0\n",
       "contract_type               0\n",
       "internet_service_type       0\n",
       "payment_type                0\n",
       "dtype: int64"
      ]
     },
     "execution_count": 14,
     "metadata": {},
     "output_type": "execute_result"
    }
   ],
   "source": [
    "# Check for null values\n",
    "# No nulls found\n",
    "\n",
    "df.isnull().sum()"
   ]
  },
  {
   "cell_type": "code",
   "execution_count": 15,
   "id": "42b3d9ad",
   "metadata": {},
   "outputs": [],
   "source": [
    "def telco_split(df):\n",
    "    '''\n",
    "    This function takes in a dataframe, the name of the target variable\n",
    "    (for stratification purposes), and an integer for a setting a seed\n",
    "    and splits the data into train, validate and test. \n",
    "    Test is 20% of the original dataset, validate is .30*.80= 24% of the \n",
    "    original dataset, and train is .70*.80= 56% of the original dataset. \n",
    "    The function returns, in this order, train, validate and test dataframes. \n",
    "    '''\n",
    "    train_validate, test = train_test_split(df, test_size=0.2, \n",
    "                                            random_state=123, \n",
    "                                            stratify=df.churn)\n",
    "    train, validate = train_test_split(train_validate, test_size=0.3, \n",
    "                                       random_state=123,\n",
    "                                       stratify=train_validate.churn)\n",
    "    return train, validate, test"
   ]
  },
  {
   "cell_type": "code",
   "execution_count": 52,
   "id": "1848fa76",
   "metadata": {},
   "outputs": [],
   "source": [
    "def prep_telco(df):\n",
    "    '''\n",
    "    This function takes in df that was acquired from get_telco_data.\n",
    "    Then it drops the SQL foreign keys, which are unnecessary:\n",
    "    payment_type_id, internet_service_type_id, contract_type_id\n",
    "    '''\n",
    "    \n",
    "    # Get rid of any duplicate records\n",
    "    df = df.drop_duplicates()\n",
    "    \n",
    "     # Create a new column to show if payment was automatic\n",
    "    df['automatic_pmt'] = np.where(df['payment_type'].str.contains(\"automatic\", case=False), 1, 0)\n",
    "    \n",
    "    # Create dummies dataframe\n",
    "    # .get_dummies(column_names,not dropping any of the dummy columns)\n",
    "    #dummy_features = ['multiple_lines','online_security','online_backup',\n",
    "    #                  'device_protection','tech_support','streaming_tv',\n",
    "    #                  'streaming_movies','contract_type','internet_service_type',\n",
    "    #                  'payment_type']\n",
    "    #dummy_df = pd.get_dummies(df, columns=dummy_features, drop_first=False)\n",
    "    \n",
    "    # Join original df with dummies df\n",
    "    # .concat([original_df,dummy_df])\n",
    "    #df = pd.concat([df, dummy_df])\n",
    "    \n",
    "    # Drop original columns that we made dummies of\n",
    "    #df = df.drop(columns=dummy_features)\n",
    "    \n",
    "    # Replace string values with numbers\n",
    "    #df.replace({'gender':{'Male':1, 'Female':0}}, inplace=True)\n",
    "    df.replace({'partner':{'Yes':1, 'No':0}}, inplace=True)\n",
    "    df.replace({'dependents':{'Yes':1, 'No':0}}, inplace=True)\n",
    "    #df.replace({'phone_service':{'Yes':1, 'No':0}}, inplace=True)\n",
    "    df.replace({'paperless_billing':{'Yes':1, 'No':0}}, inplace=True)\n",
    "    df.replace({'churn':{'Yes':1, 'No':0}}, inplace=True)\n",
    "    \n",
    "    df.replace({'multiple_lines':{'Yes':1, 'No':0, 'No phone service':-1}}, inplace=True)\n",
    "    df.replace({'device_protection':{'Yes':1, 'No':0, 'No internet service':-1}}, inplace=True)\n",
    "    df.replace({'online_security':{'Yes':1, 'No':0, 'No internet service':-1}}, inplace=True)\n",
    "    df.replace({'online_backup':{'Yes':1, 'No':0, 'No internet service':-1}}, inplace=True)\n",
    "    df.replace({'tech_support':{'Yes':1, 'No':0, 'No internet service':-1}}, inplace=True)\n",
    "    df.replace({'streaming_tv':{'Yes':1, 'No':0, 'No internet service':-1}}, inplace=True)\n",
    "    df.replace({'streaming_movies':{'Yes':1, 'No':0, 'No internet service':-1}}, inplace=True)\n",
    "    df.replace({'contract_type':{'Month-to-month':0, 'One year':1, 'Two year':2}}, inplace=True)\n",
    "    df.replace({'internet_service_type':{'None':0, 'DSL':1, 'Fiber optic':2}}, inplace=True)\n",
    "    df.replace({'payment_type':{'Mailed check':0, 'Electronic check':1, 'Bank transfer (automatic)':2, 'Credit card (automatic)':3}}, inplace=True)\n",
    "    \n",
    "    # Create new feature to combine online utility options\n",
    "    # These online options did not seem popular during univariate exploration\n",
    "    df['online_utility']= df.online_security + df.online_backup + df.tech_support\n",
    "    \n",
    "    # Create new feature to combine streaming options, because they are very similar\n",
    "    df['streaming']= df.streaming_tv + df.streaming_movies\n",
    "    \n",
    "    # Drop the unnecessary colums\n",
    "    df = df.drop(columns=['payment_type_id', 'internet_service_type_id', 'contract_type_id', 'customer_id', 'online_security', 'online_backup', 'tech_support', 'streaming_tv', 'streaming_movies', 'phone_service', 'gender','total_charges'])    \n",
    "    \n",
    "    # Convert total_charges to a numeric data type (is currently string type)\n",
    "    #df['total_charges'] = pd.to_numeric(df['total_charges'], errors='coerce')\n",
    "    # There are 7 null values in total_charges\n",
    "    # Replace those 7 null values with median value\n",
    "    #df.total_charges.fillna(df.total_charges.median(), inplace=True)\n",
    "    \n",
    "    # Split the dataset into train, validate, and test subsets\n",
    "    train, validate, test = telco_split(df)\n",
    "    \n",
    "    return train, validate, test"
   ]
  },
  {
   "cell_type": "code",
   "execution_count": 53,
   "id": "1ad08ee5",
   "metadata": {},
   "outputs": [
    {
     "name": "stdout",
     "output_type": "stream",
     "text": [
      "The shape of the data subsets:\n",
      "train    -> (3943, 15)\n",
      "validate -> (1691, 15)\n",
      "test     -> (1409, 15)\n"
     ]
    }
   ],
   "source": [
    "# Split the dataset into train, validate, and test data subsets\n",
    "\n",
    "train, validate, test = prep_telco(df)\n",
    "print('The shape of the data subsets:')\n",
    "print(f'train    -> {train.shape}')\n",
    "print(f'validate -> {validate.shape}')\n",
    "print(f'test     -> {test.shape}')"
   ]
  },
  {
   "cell_type": "code",
   "execution_count": 54,
   "id": "cb0566dd",
   "metadata": {},
   "outputs": [
    {
     "data": {
      "text/html": [
       "<div>\n",
       "<style scoped>\n",
       "    .dataframe tbody tr th:only-of-type {\n",
       "        vertical-align: middle;\n",
       "    }\n",
       "\n",
       "    .dataframe tbody tr th {\n",
       "        vertical-align: top;\n",
       "    }\n",
       "\n",
       "    .dataframe thead th {\n",
       "        text-align: right;\n",
       "    }\n",
       "</style>\n",
       "<table border=\"1\" class=\"dataframe\">\n",
       "  <thead>\n",
       "    <tr style=\"text-align: right;\">\n",
       "      <th></th>\n",
       "      <th>senior_citizen</th>\n",
       "      <th>partner</th>\n",
       "      <th>dependents</th>\n",
       "      <th>tenure</th>\n",
       "      <th>multiple_lines</th>\n",
       "      <th>device_protection</th>\n",
       "      <th>paperless_billing</th>\n",
       "      <th>monthly_charges</th>\n",
       "      <th>churn</th>\n",
       "      <th>contract_type</th>\n",
       "      <th>internet_service_type</th>\n",
       "      <th>payment_type</th>\n",
       "      <th>automatic_pmt</th>\n",
       "      <th>online_utility</th>\n",
       "      <th>streaming</th>\n",
       "    </tr>\n",
       "  </thead>\n",
       "  <tbody>\n",
       "    <tr>\n",
       "      <th>5642</th>\n",
       "      <td>0</td>\n",
       "      <td>1</td>\n",
       "      <td>1</td>\n",
       "      <td>23</td>\n",
       "      <td>1</td>\n",
       "      <td>-1</td>\n",
       "      <td>1</td>\n",
       "      <td>25.60</td>\n",
       "      <td>0</td>\n",
       "      <td>2</td>\n",
       "      <td>0</td>\n",
       "      <td>3</td>\n",
       "      <td>1</td>\n",
       "      <td>-3</td>\n",
       "      <td>-2</td>\n",
       "    </tr>\n",
       "    <tr>\n",
       "      <th>3338</th>\n",
       "      <td>0</td>\n",
       "      <td>0</td>\n",
       "      <td>0</td>\n",
       "      <td>27</td>\n",
       "      <td>1</td>\n",
       "      <td>1</td>\n",
       "      <td>1</td>\n",
       "      <td>100.50</td>\n",
       "      <td>0</td>\n",
       "      <td>1</td>\n",
       "      <td>2</td>\n",
       "      <td>2</td>\n",
       "      <td>1</td>\n",
       "      <td>0</td>\n",
       "      <td>2</td>\n",
       "    </tr>\n",
       "    <tr>\n",
       "      <th>4273</th>\n",
       "      <td>1</td>\n",
       "      <td>0</td>\n",
       "      <td>0</td>\n",
       "      <td>7</td>\n",
       "      <td>0</td>\n",
       "      <td>0</td>\n",
       "      <td>1</td>\n",
       "      <td>89.15</td>\n",
       "      <td>0</td>\n",
       "      <td>0</td>\n",
       "      <td>2</td>\n",
       "      <td>1</td>\n",
       "      <td>0</td>\n",
       "      <td>0</td>\n",
       "      <td>2</td>\n",
       "    </tr>\n",
       "    <tr>\n",
       "      <th>2382</th>\n",
       "      <td>0</td>\n",
       "      <td>1</td>\n",
       "      <td>0</td>\n",
       "      <td>47</td>\n",
       "      <td>0</td>\n",
       "      <td>0</td>\n",
       "      <td>1</td>\n",
       "      <td>58.60</td>\n",
       "      <td>0</td>\n",
       "      <td>0</td>\n",
       "      <td>1</td>\n",
       "      <td>2</td>\n",
       "      <td>1</td>\n",
       "      <td>1</td>\n",
       "      <td>1</td>\n",
       "    </tr>\n",
       "    <tr>\n",
       "      <th>2655</th>\n",
       "      <td>0</td>\n",
       "      <td>0</td>\n",
       "      <td>0</td>\n",
       "      <td>41</td>\n",
       "      <td>0</td>\n",
       "      <td>0</td>\n",
       "      <td>1</td>\n",
       "      <td>99.65</td>\n",
       "      <td>0</td>\n",
       "      <td>2</td>\n",
       "      <td>2</td>\n",
       "      <td>3</td>\n",
       "      <td>1</td>\n",
       "      <td>2</td>\n",
       "      <td>2</td>\n",
       "    </tr>\n",
       "    <tr>\n",
       "      <th>...</th>\n",
       "      <td>...</td>\n",
       "      <td>...</td>\n",
       "      <td>...</td>\n",
       "      <td>...</td>\n",
       "      <td>...</td>\n",
       "      <td>...</td>\n",
       "      <td>...</td>\n",
       "      <td>...</td>\n",
       "      <td>...</td>\n",
       "      <td>...</td>\n",
       "      <td>...</td>\n",
       "      <td>...</td>\n",
       "      <td>...</td>\n",
       "      <td>...</td>\n",
       "      <td>...</td>\n",
       "    </tr>\n",
       "    <tr>\n",
       "      <th>5354</th>\n",
       "      <td>0</td>\n",
       "      <td>1</td>\n",
       "      <td>1</td>\n",
       "      <td>13</td>\n",
       "      <td>1</td>\n",
       "      <td>0</td>\n",
       "      <td>1</td>\n",
       "      <td>74.40</td>\n",
       "      <td>1</td>\n",
       "      <td>0</td>\n",
       "      <td>2</td>\n",
       "      <td>3</td>\n",
       "      <td>1</td>\n",
       "      <td>0</td>\n",
       "      <td>0</td>\n",
       "    </tr>\n",
       "    <tr>\n",
       "      <th>262</th>\n",
       "      <td>0</td>\n",
       "      <td>1</td>\n",
       "      <td>0</td>\n",
       "      <td>33</td>\n",
       "      <td>-1</td>\n",
       "      <td>1</td>\n",
       "      <td>0</td>\n",
       "      <td>59.55</td>\n",
       "      <td>0</td>\n",
       "      <td>2</td>\n",
       "      <td>1</td>\n",
       "      <td>2</td>\n",
       "      <td>1</td>\n",
       "      <td>2</td>\n",
       "      <td>2</td>\n",
       "    </tr>\n",
       "    <tr>\n",
       "      <th>3271</th>\n",
       "      <td>0</td>\n",
       "      <td>1</td>\n",
       "      <td>0</td>\n",
       "      <td>67</td>\n",
       "      <td>1</td>\n",
       "      <td>1</td>\n",
       "      <td>0</td>\n",
       "      <td>104.10</td>\n",
       "      <td>1</td>\n",
       "      <td>1</td>\n",
       "      <td>2</td>\n",
       "      <td>1</td>\n",
       "      <td>0</td>\n",
       "      <td>1</td>\n",
       "      <td>2</td>\n",
       "    </tr>\n",
       "    <tr>\n",
       "      <th>3150</th>\n",
       "      <td>0</td>\n",
       "      <td>0</td>\n",
       "      <td>0</td>\n",
       "      <td>69</td>\n",
       "      <td>1</td>\n",
       "      <td>0</td>\n",
       "      <td>1</td>\n",
       "      <td>105.20</td>\n",
       "      <td>0</td>\n",
       "      <td>1</td>\n",
       "      <td>2</td>\n",
       "      <td>2</td>\n",
       "      <td>1</td>\n",
       "      <td>2</td>\n",
       "      <td>2</td>\n",
       "    </tr>\n",
       "    <tr>\n",
       "      <th>6840</th>\n",
       "      <td>0</td>\n",
       "      <td>0</td>\n",
       "      <td>0</td>\n",
       "      <td>1</td>\n",
       "      <td>0</td>\n",
       "      <td>-1</td>\n",
       "      <td>1</td>\n",
       "      <td>19.50</td>\n",
       "      <td>0</td>\n",
       "      <td>0</td>\n",
       "      <td>0</td>\n",
       "      <td>0</td>\n",
       "      <td>0</td>\n",
       "      <td>-3</td>\n",
       "      <td>-2</td>\n",
       "    </tr>\n",
       "  </tbody>\n",
       "</table>\n",
       "<p>3943 rows × 15 columns</p>\n",
       "</div>"
      ],
      "text/plain": [
       "      senior_citizen  partner  dependents  tenure  multiple_lines  \\\n",
       "5642               0        1           1      23               1   \n",
       "3338               0        0           0      27               1   \n",
       "4273               1        0           0       7               0   \n",
       "2382               0        1           0      47               0   \n",
       "2655               0        0           0      41               0   \n",
       "...              ...      ...         ...     ...             ...   \n",
       "5354               0        1           1      13               1   \n",
       "262                0        1           0      33              -1   \n",
       "3271               0        1           0      67               1   \n",
       "3150               0        0           0      69               1   \n",
       "6840               0        0           0       1               0   \n",
       "\n",
       "      device_protection  paperless_billing  monthly_charges  churn  \\\n",
       "5642                 -1                  1            25.60      0   \n",
       "3338                  1                  1           100.50      0   \n",
       "4273                  0                  1            89.15      0   \n",
       "2382                  0                  1            58.60      0   \n",
       "2655                  0                  1            99.65      0   \n",
       "...                 ...                ...              ...    ...   \n",
       "5354                  0                  1            74.40      1   \n",
       "262                   1                  0            59.55      0   \n",
       "3271                  1                  0           104.10      1   \n",
       "3150                  0                  1           105.20      0   \n",
       "6840                 -1                  1            19.50      0   \n",
       "\n",
       "      contract_type  internet_service_type  payment_type  automatic_pmt  \\\n",
       "5642              2                      0             3              1   \n",
       "3338              1                      2             2              1   \n",
       "4273              0                      2             1              0   \n",
       "2382              0                      1             2              1   \n",
       "2655              2                      2             3              1   \n",
       "...             ...                    ...           ...            ...   \n",
       "5354              0                      2             3              1   \n",
       "262               2                      1             2              1   \n",
       "3271              1                      2             1              0   \n",
       "3150              1                      2             2              1   \n",
       "6840              0                      0             0              0   \n",
       "\n",
       "      online_utility  streaming  \n",
       "5642              -3         -2  \n",
       "3338               0          2  \n",
       "4273               0          2  \n",
       "2382               1          1  \n",
       "2655               2          2  \n",
       "...              ...        ...  \n",
       "5354               0          0  \n",
       "262                2          2  \n",
       "3271               1          2  \n",
       "3150               2          2  \n",
       "6840              -3         -2  \n",
       "\n",
       "[3943 rows x 15 columns]"
      ]
     },
     "execution_count": 54,
     "metadata": {},
     "output_type": "execute_result"
    }
   ],
   "source": [
    "# Verify that all cells contain numeric values\n",
    "\n",
    "train"
   ]
  },
  {
   "cell_type": "code",
   "execution_count": 55,
   "id": "e9a8be35",
   "metadata": {},
   "outputs": [
    {
     "data": {
      "text/plain": [
       "senior_citizen             int64\n",
       "partner                    int64\n",
       "dependents                 int64\n",
       "tenure                     int64\n",
       "multiple_lines             int64\n",
       "device_protection          int64\n",
       "paperless_billing          int64\n",
       "monthly_charges          float64\n",
       "churn                      int64\n",
       "contract_type              int64\n",
       "internet_service_type      int64\n",
       "payment_type               int64\n",
       "automatic_pmt              int64\n",
       "online_utility             int64\n",
       "streaming                  int64\n",
       "dtype: object"
      ]
     },
     "execution_count": 55,
     "metadata": {},
     "output_type": "execute_result"
    }
   ],
   "source": [
    "# All columns have a numeric data type\n",
    "\n",
    "train.dtypes"
   ]
  },
  {
   "cell_type": "code",
   "execution_count": 56,
   "id": "092fc855",
   "metadata": {},
   "outputs": [
    {
     "data": {
      "text/plain": [
       "senior_citizen           0\n",
       "partner                  0\n",
       "dependents               0\n",
       "tenure                   0\n",
       "multiple_lines           0\n",
       "device_protection        0\n",
       "paperless_billing        0\n",
       "monthly_charges          0\n",
       "churn                    0\n",
       "contract_type            0\n",
       "internet_service_type    0\n",
       "payment_type             0\n",
       "automatic_pmt            0\n",
       "online_utility           0\n",
       "streaming                0\n",
       "dtype: int64"
      ]
     },
     "execution_count": 56,
     "metadata": {},
     "output_type": "execute_result"
    }
   ],
   "source": [
    "# Checking for nulls after preparing data\n",
    "\n",
    "train.isnull().sum()"
   ]
  },
  {
   "cell_type": "markdown",
   "id": "8fdf9454",
   "metadata": {},
   "source": [
    "# Explore Data"
   ]
  },
  {
   "cell_type": "code",
   "execution_count": 57,
   "id": "8659b37c",
   "metadata": {},
   "outputs": [
    {
     "name": "stdout",
     "output_type": "stream",
     "text": [
      "<class 'pandas.core.frame.DataFrame'>\n",
      "Int64Index: 3943 entries, 5642 to 6840\n",
      "Data columns (total 15 columns):\n",
      " #   Column                 Non-Null Count  Dtype  \n",
      "---  ------                 --------------  -----  \n",
      " 0   senior_citizen         3943 non-null   int64  \n",
      " 1   partner                3943 non-null   int64  \n",
      " 2   dependents             3943 non-null   int64  \n",
      " 3   tenure                 3943 non-null   int64  \n",
      " 4   multiple_lines         3943 non-null   int64  \n",
      " 5   device_protection      3943 non-null   int64  \n",
      " 6   paperless_billing      3943 non-null   int64  \n",
      " 7   monthly_charges        3943 non-null   float64\n",
      " 8   churn                  3943 non-null   int64  \n",
      " 9   contract_type          3943 non-null   int64  \n",
      " 10  internet_service_type  3943 non-null   int64  \n",
      " 11  payment_type           3943 non-null   int64  \n",
      " 12  automatic_pmt          3943 non-null   int64  \n",
      " 13  online_utility         3943 non-null   int64  \n",
      " 14  streaming              3943 non-null   int64  \n",
      "dtypes: float64(1), int64(14)\n",
      "memory usage: 492.9 KB\n"
     ]
    }
   ],
   "source": [
    "train.info()"
   ]
  },
  {
   "cell_type": "code",
   "execution_count": 58,
   "id": "1ce732d3",
   "metadata": {},
   "outputs": [
    {
     "data": {
      "text/html": [
       "<div>\n",
       "<style scoped>\n",
       "    .dataframe tbody tr th:only-of-type {\n",
       "        vertical-align: middle;\n",
       "    }\n",
       "\n",
       "    .dataframe tbody tr th {\n",
       "        vertical-align: top;\n",
       "    }\n",
       "\n",
       "    .dataframe thead th {\n",
       "        text-align: right;\n",
       "    }\n",
       "</style>\n",
       "<table border=\"1\" class=\"dataframe\">\n",
       "  <thead>\n",
       "    <tr style=\"text-align: right;\">\n",
       "      <th></th>\n",
       "      <th>count</th>\n",
       "      <th>mean</th>\n",
       "      <th>std</th>\n",
       "      <th>min</th>\n",
       "      <th>25%</th>\n",
       "      <th>50%</th>\n",
       "      <th>75%</th>\n",
       "      <th>max</th>\n",
       "    </tr>\n",
       "  </thead>\n",
       "  <tbody>\n",
       "    <tr>\n",
       "      <th>senior_citizen</th>\n",
       "      <td>3943.0</td>\n",
       "      <td>0.162313</td>\n",
       "      <td>0.368784</td>\n",
       "      <td>0.00</td>\n",
       "      <td>0.0</td>\n",
       "      <td>0.0</td>\n",
       "      <td>0.00</td>\n",
       "      <td>1.00</td>\n",
       "    </tr>\n",
       "    <tr>\n",
       "      <th>partner</th>\n",
       "      <td>3943.0</td>\n",
       "      <td>0.481613</td>\n",
       "      <td>0.499725</td>\n",
       "      <td>0.00</td>\n",
       "      <td>0.0</td>\n",
       "      <td>0.0</td>\n",
       "      <td>1.00</td>\n",
       "      <td>1.00</td>\n",
       "    </tr>\n",
       "    <tr>\n",
       "      <th>dependents</th>\n",
       "      <td>3943.0</td>\n",
       "      <td>0.299011</td>\n",
       "      <td>0.457883</td>\n",
       "      <td>0.00</td>\n",
       "      <td>0.0</td>\n",
       "      <td>0.0</td>\n",
       "      <td>1.00</td>\n",
       "      <td>1.00</td>\n",
       "    </tr>\n",
       "    <tr>\n",
       "      <th>tenure</th>\n",
       "      <td>3943.0</td>\n",
       "      <td>32.673852</td>\n",
       "      <td>24.472862</td>\n",
       "      <td>0.00</td>\n",
       "      <td>9.0</td>\n",
       "      <td>29.0</td>\n",
       "      <td>56.00</td>\n",
       "      <td>72.00</td>\n",
       "    </tr>\n",
       "    <tr>\n",
       "      <th>multiple_lines</th>\n",
       "      <td>3943.0</td>\n",
       "      <td>0.322851</td>\n",
       "      <td>0.646579</td>\n",
       "      <td>-1.00</td>\n",
       "      <td>0.0</td>\n",
       "      <td>0.0</td>\n",
       "      <td>1.00</td>\n",
       "      <td>1.00</td>\n",
       "    </tr>\n",
       "    <tr>\n",
       "      <th>device_protection</th>\n",
       "      <td>3943.0</td>\n",
       "      <td>0.144814</td>\n",
       "      <td>0.740972</td>\n",
       "      <td>-1.00</td>\n",
       "      <td>0.0</td>\n",
       "      <td>0.0</td>\n",
       "      <td>1.00</td>\n",
       "      <td>1.00</td>\n",
       "    </tr>\n",
       "    <tr>\n",
       "      <th>paperless_billing</th>\n",
       "      <td>3943.0</td>\n",
       "      <td>0.589399</td>\n",
       "      <td>0.492005</td>\n",
       "      <td>0.00</td>\n",
       "      <td>0.0</td>\n",
       "      <td>1.0</td>\n",
       "      <td>1.00</td>\n",
       "      <td>1.00</td>\n",
       "    </tr>\n",
       "    <tr>\n",
       "      <th>monthly_charges</th>\n",
       "      <td>3943.0</td>\n",
       "      <td>65.102790</td>\n",
       "      <td>30.128631</td>\n",
       "      <td>18.55</td>\n",
       "      <td>36.2</td>\n",
       "      <td>70.4</td>\n",
       "      <td>90.05</td>\n",
       "      <td>118.65</td>\n",
       "    </tr>\n",
       "    <tr>\n",
       "      <th>churn</th>\n",
       "      <td>3943.0</td>\n",
       "      <td>0.265280</td>\n",
       "      <td>0.441538</td>\n",
       "      <td>0.00</td>\n",
       "      <td>0.0</td>\n",
       "      <td>0.0</td>\n",
       "      <td>1.00</td>\n",
       "      <td>1.00</td>\n",
       "    </tr>\n",
       "    <tr>\n",
       "      <th>contract_type</th>\n",
       "      <td>3943.0</td>\n",
       "      <td>0.698707</td>\n",
       "      <td>0.839485</td>\n",
       "      <td>0.00</td>\n",
       "      <td>0.0</td>\n",
       "      <td>0.0</td>\n",
       "      <td>1.00</td>\n",
       "      <td>2.00</td>\n",
       "    </tr>\n",
       "    <tr>\n",
       "      <th>internet_service_type</th>\n",
       "      <td>3943.0</td>\n",
       "      <td>1.228760</td>\n",
       "      <td>0.775654</td>\n",
       "      <td>0.00</td>\n",
       "      <td>1.0</td>\n",
       "      <td>1.0</td>\n",
       "      <td>2.00</td>\n",
       "      <td>2.00</td>\n",
       "    </tr>\n",
       "    <tr>\n",
       "      <th>payment_type</th>\n",
       "      <td>3943.0</td>\n",
       "      <td>1.428861</td>\n",
       "      <td>1.062935</td>\n",
       "      <td>0.00</td>\n",
       "      <td>1.0</td>\n",
       "      <td>1.0</td>\n",
       "      <td>2.00</td>\n",
       "      <td>3.00</td>\n",
       "    </tr>\n",
       "    <tr>\n",
       "      <th>automatic_pmt</th>\n",
       "      <td>3943.0</td>\n",
       "      <td>0.439006</td>\n",
       "      <td>0.496329</td>\n",
       "      <td>0.00</td>\n",
       "      <td>0.0</td>\n",
       "      <td>0.0</td>\n",
       "      <td>1.00</td>\n",
       "      <td>1.00</td>\n",
       "    </tr>\n",
       "    <tr>\n",
       "      <th>online_utility</th>\n",
       "      <td>3943.0</td>\n",
       "      <td>0.309663</td>\n",
       "      <td>1.938744</td>\n",
       "      <td>-3.00</td>\n",
       "      <td>0.0</td>\n",
       "      <td>1.0</td>\n",
       "      <td>2.00</td>\n",
       "      <td>3.00</td>\n",
       "    </tr>\n",
       "    <tr>\n",
       "      <th>streaming</th>\n",
       "      <td>3943.0</td>\n",
       "      <td>0.351509</td>\n",
       "      <td>1.433881</td>\n",
       "      <td>-2.00</td>\n",
       "      <td>0.0</td>\n",
       "      <td>1.0</td>\n",
       "      <td>2.00</td>\n",
       "      <td>2.00</td>\n",
       "    </tr>\n",
       "  </tbody>\n",
       "</table>\n",
       "</div>"
      ],
      "text/plain": [
       "                        count       mean        std    min   25%   50%    75%  \\\n",
       "senior_citizen         3943.0   0.162313   0.368784   0.00   0.0   0.0   0.00   \n",
       "partner                3943.0   0.481613   0.499725   0.00   0.0   0.0   1.00   \n",
       "dependents             3943.0   0.299011   0.457883   0.00   0.0   0.0   1.00   \n",
       "tenure                 3943.0  32.673852  24.472862   0.00   9.0  29.0  56.00   \n",
       "multiple_lines         3943.0   0.322851   0.646579  -1.00   0.0   0.0   1.00   \n",
       "device_protection      3943.0   0.144814   0.740972  -1.00   0.0   0.0   1.00   \n",
       "paperless_billing      3943.0   0.589399   0.492005   0.00   0.0   1.0   1.00   \n",
       "monthly_charges        3943.0  65.102790  30.128631  18.55  36.2  70.4  90.05   \n",
       "churn                  3943.0   0.265280   0.441538   0.00   0.0   0.0   1.00   \n",
       "contract_type          3943.0   0.698707   0.839485   0.00   0.0   0.0   1.00   \n",
       "internet_service_type  3943.0   1.228760   0.775654   0.00   1.0   1.0   2.00   \n",
       "payment_type           3943.0   1.428861   1.062935   0.00   1.0   1.0   2.00   \n",
       "automatic_pmt          3943.0   0.439006   0.496329   0.00   0.0   0.0   1.00   \n",
       "online_utility         3943.0   0.309663   1.938744  -3.00   0.0   1.0   2.00   \n",
       "streaming              3943.0   0.351509   1.433881  -2.00   0.0   1.0   2.00   \n",
       "\n",
       "                          max  \n",
       "senior_citizen           1.00  \n",
       "partner                  1.00  \n",
       "dependents               1.00  \n",
       "tenure                  72.00  \n",
       "multiple_lines           1.00  \n",
       "device_protection        1.00  \n",
       "paperless_billing        1.00  \n",
       "monthly_charges        118.65  \n",
       "churn                    1.00  \n",
       "contract_type            2.00  \n",
       "internet_service_type    2.00  \n",
       "payment_type             3.00  \n",
       "automatic_pmt            1.00  \n",
       "online_utility           3.00  \n",
       "streaming                2.00  "
      ]
     },
     "execution_count": 58,
     "metadata": {},
     "output_type": "execute_result"
    }
   ],
   "source": [
    "train.describe().T"
   ]
  },
  {
   "cell_type": "code",
   "execution_count": 60,
   "id": "d61ea437",
   "metadata": {},
   "outputs": [],
   "source": [
    "# I will be using the functions from explore.py given by the Codeup staff\n",
    "\n",
    "# Choosing categorical variables\n",
    "cat_vars = ['senior_citizen', 'partner', 'dependents','multiple_lines',\n",
    "            'paperless_billing','churn','contract_type','internet_service_type',\n",
    "            'payment_type','automatic_pmt','online_utility','streaming']\n",
    "\n",
    "# Choosing quantitative variables\n",
    "quant_vars = ['tenure', 'monthly_charges']"
   ]
  },
  {
   "cell_type": "code",
   "execution_count": 61,
   "id": "8ed9553c",
   "metadata": {},
   "outputs": [
    {
     "data": {
      "image/png": "[encoded data removed]",
      "text/plain": [
       "<Figure size 144x144 with 1 Axes>"
      ]
     },
     "metadata": {},
     "output_type": "display_data"
    },
    {
     "name": "stdout",
     "output_type": "stream",
     "text": [
      "   senior_citizen  Count  Percent\n",
      "0               0   3303    83.77\n",
      "1               1    640    16.23\n",
      "_________________________________________________________________\n"
     ]
    },
    {
     "data": {
      "image/png": "[encoded data removed]",
      "text/plain": [
       "<Figure size 144x144 with 1 Axes>"
      ]
     },
     "metadata": {},
     "output_type": "display_data"
    },
    {
     "name": "stdout",
     "output_type": "stream",
     "text": [
      "   partner  Count  Percent\n",
      "0        1   2044    51.84\n",
      "1        0   1899    48.16\n",
      "_________________________________________________________________\n"
     ]
    },
    {
     "data": {
      "image/png": "[encoded data removed]",
      "text/plain": [
       "<Figure size 144x144 with 1 Axes>"
      ]
     },
     "metadata": {},
     "output_type": "display_data"
    },
    {
     "name": "stdout",
     "output_type": "stream",
     "text": [
      "   dependents  Count  Percent\n",
      "0           1   2764     70.1\n",
      "1           0   1179     29.9\n",
      "_________________________________________________________________\n"
     ]
    },
    {
     "data": {
      "image/png": "[encoded data removed]",
      "text/plain": [
       "<Figure size 144x144 with 1 Axes>"
      ]
     },
     "metadata": {},
     "output_type": "display_data"
    },
    {
     "name": "stdout",
     "output_type": "stream",
     "text": [
      "    multiple_lines  Count  Percent\n",
      " 0               1   1884    47.78\n",
      " 1               0   1666    42.25\n",
      "-1              -1    393     9.97\n",
      "_________________________________________________________________\n"
     ]
    },
    {
     "data": {
      "image/png": "[encoded data removed]",
      "text/plain": [
       "<Figure size 144x144 with 1 Axes>"
      ]
     },
     "metadata": {},
     "output_type": "display_data"
    },
    {
     "name": "stdout",
     "output_type": "stream",
     "text": [
      "   paperless_billing  Count  Percent\n",
      "1                  1   2324    58.94\n",
      "0                  0   1619    41.06\n",
      "_________________________________________________________________\n"
     ]
    },
    {
     "data": {
      "image/png": "[encoded data removed]",
      "text/plain": [
       "<Figure size 144x144 with 1 Axes>"
      ]
     },
     "metadata": {},
     "output_type": "display_data"
    },
    {
     "name": "stdout",
     "output_type": "stream",
     "text": [
      "   churn  Count  Percent\n",
      "0      0   2897    73.47\n",
      "1      1   1046    26.53\n",
      "_________________________________________________________________\n"
     ]
    },
    {
     "data": {
      "image/png": "[encoded data removed]",
      "text/plain": [
       "<Figure size 144x144 with 1 Axes>"
      ]
     },
     "metadata": {},
     "output_type": "display_data"
    },
    {
     "name": "stdout",
     "output_type": "stream",
     "text": [
      "   contract_type  Count  Percent\n",
      "0              2   2162    54.83\n",
      "2              1    974    24.70\n",
      "1              0    807    20.47\n",
      "_________________________________________________________________\n"
     ]
    },
    {
     "data": {
      "image/png": "[encoded data removed]",
      "text/plain": [
       "<Figure size 144x144 with 1 Axes>"
      ]
     },
     "metadata": {},
     "output_type": "display_data"
    },
    {
     "name": "stdout",
     "output_type": "stream",
     "text": [
      "   internet_service_type  Count  Percent\n",
      "2                      0   1740    44.13\n",
      "1                      2   1365    34.62\n",
      "0                      1    838    21.25\n",
      "_________________________________________________________________\n"
     ]
    },
    {
     "data": {
      "image/png": "[encoded data removed]",
      "text/plain": [
       "<Figure size 144x144 with 1 Axes>"
      ]
     },
     "metadata": {},
     "output_type": "display_data"
    },
    {
     "name": "stdout",
     "output_type": "stream",
     "text": [
      "   payment_type  Count  Percent\n",
      "1             3   1320    33.48\n",
      "0             2    892    22.62\n",
      "2             1    879    22.29\n",
      "3             0    852    21.61\n",
      "_________________________________________________________________\n"
     ]
    },
    {
     "data": {
      "image/png": "[encoded data removed]",
      "text/plain": [
       "<Figure size 144x144 with 1 Axes>"
      ]
     },
     "metadata": {},
     "output_type": "display_data"
    },
    {
     "name": "stdout",
     "output_type": "stream",
     "text": [
      "   automatic_pmt  Count  Percent\n",
      "0              1   2212     56.1\n",
      "1              0   1731     43.9\n",
      "_________________________________________________________________\n"
     ]
    },
    {
     "data": {
      "image/png": "[encoded data removed]",
      "text/plain": [
       "<Figure size 144x144 with 1 Axes>"
      ]
     },
     "metadata": {},
     "output_type": "display_data"
    },
    {
     "name": "stdout",
     "output_type": "stream",
     "text": [
      "    online_utility  Count  Percent\n",
      " 1              -3   1026    26.02\n",
      " 0               0    926    23.48\n",
      "-3               1    838    21.25\n",
      " 2               2    750    19.02\n",
      " 3               3    403    10.22\n",
      "_________________________________________________________________\n"
     ]
    },
    {
     "data": {
      "image/png": "[encoded data removed]",
      "text/plain": [
       "<Figure size 144x144 with 1 Axes>"
      ]
     },
     "metadata": {},
     "output_type": "display_data"
    },
    {
     "name": "stdout",
     "output_type": "stream",
     "text": [
      "    streaming  Count  Percent\n",
      " 0         -2   1132    28.71\n",
      " 2          2   1089    27.62\n",
      " 1          1    884    22.42\n",
      "-2          0    838    21.25\n",
      "_________________________________________________________________\n"
     ]
    },
    {
     "data": {
      "image/png": "[encoded data removed]",
      "text/plain": [
       "<Figure size 576x144 with 2 Axes>"
      ]
     },
     "metadata": {},
     "output_type": "display_data"
    },
    {
     "name": "stdout",
     "output_type": "stream",
     "text": [
      "count    3943.000000\n",
      "mean       32.673852\n",
      "std        24.472862\n",
      "min         0.000000\n",
      "25%         9.000000\n",
      "50%        29.000000\n",
      "75%        56.000000\n",
      "max        72.000000\n",
      "Name: tenure, dtype: float64\n"
     ]
    },
    {
     "data": {
      "image/png": "[encoded data removed]",
      "text/plain": [
       "<Figure size 576x144 with 2 Axes>"
      ]
     },
     "metadata": {},
     "output_type": "display_data"
    },
    {
     "name": "stdout",
     "output_type": "stream",
     "text": [
      "count    3943.000000\n",
      "mean       65.102790\n",
      "std        30.128631\n",
      "min        18.550000\n",
      "25%        36.200000\n",
      "50%        70.400000\n",
      "75%        90.050000\n",
      "max       118.650000\n",
      "Name: monthly_charges, dtype: float64\n"
     ]
    }
   ],
   "source": [
    "# This is one of the functions from explore.py\n",
    "# This function examines univariate relationships between the features\n",
    "\n",
    "explore.explore_univariate(train, cat_vars, quant_vars)"
   ]
  },
  {
   "cell_type": "markdown",
   "id": "1e29e6e5",
   "metadata": {},
   "source": [
    "### Takeaways from univariate analysis <br>\n",
    "- Gender is approximately half and half <br>\n",
    "- Most customers (83%) are not senior citizens <br>\n",
    "- Approximately half of customers have partners <br>\n",
    "- Most customers (69%) do not have dependents <br>\n",
    "- Most customers (90%) do have phone service <br>\n",
    "- In terms of customers having internet: none > DSL > fiber optic\n",
    "- Most customers do not have the bells and whistles (online security/backup, tech support) <br>\n",
    "- However, most customers with internet do have device protection <br>\n",
    "- Most customers with internet do have streaming movies/tv <br>\n",
    "- The most common contract length is 2 years, but 1 year is only slightly higher than month-to-month <br>\n",
    "- Most customers have paperless billing <br>\n",
    "- Most customers have autopay <br>\n",
    "- Credit card (autopay) is the most common payment type, the other types are similar to each other <br>\n",
    "- Tenure looks like an upside-down bell curve, with peaks on either tail <br>\n",
    "- Monthly charges looks like a bell curve, but right skewed and with a large peak on the right tail (lowest cost)\n",
    "- Total charges peaks at the lowest cost, then has several large drops, then the number of customers with higher charges continually shrinks"
   ]
  },
  {
   "cell_type": "code",
   "execution_count": 62,
   "id": "8a1d80a3",
   "metadata": {},
   "outputs": [
    {
     "name": "stdout",
     "output_type": "stream",
     "text": [
      "senior_citizen \n",
      "_____________________\n",
      "\n"
     ]
    },
    {
     "name": "stderr",
     "output_type": "stream",
     "text": [
      "/usr/local/anaconda3/lib/python3.8/site-packages/seaborn/_decorators.py:36: FutureWarning: Pass the following variables as keyword args: x, y. From version 0.12, the only valid positional argument will be `data`, and passing other arguments without an explicit keyword will result in an error or misinterpretation.\n",
      "  warnings.warn(\n"
     ]
    },
    {
     "name": "stdout",
     "output_type": "stream",
     "text": [
      "         chi2       p-value  degrees of freedom\n",
      "0  106.962416  4.536923e-25                   1\n",
      "\n",
      "observed:\n",
      " churn              0     1   All\n",
      "senior_citizen                  \n",
      "0               2533   770  3303\n",
      "1                364   276   640\n",
      "All             2897  1046  3943\n",
      "\n",
      "expected:\n",
      "              0           1\n",
      "0  2426.779356  876.220644\n",
      "1   470.220644  169.779356\n"
     ]
    },
    {
     "data": {
      "image/png": "[encoded data removed]",
      "text/plain": [
       "<Figure size 144x144 with 1 Axes>"
      ]
     },
     "metadata": {},
     "output_type": "display_data"
    },
    {
     "name": "stdout",
     "output_type": "stream",
     "text": [
      "\n",
      "_____________________\n",
      "\n",
      "partner \n",
      "_____________________\n",
      "\n"
     ]
    },
    {
     "name": "stderr",
     "output_type": "stream",
     "text": [
      "/usr/local/anaconda3/lib/python3.8/site-packages/seaborn/_decorators.py:36: FutureWarning: Pass the following variables as keyword args: x, y. From version 0.12, the only valid positional argument will be `data`, and passing other arguments without an explicit keyword will result in an error or misinterpretation.\n",
      "  warnings.warn(\n"
     ]
    },
    {
     "name": "stdout",
     "output_type": "stream",
     "text": [
      "        chi2       p-value  degrees of freedom\n",
      "0  74.137206  7.287185e-18                   1\n",
      "\n",
      "observed:\n",
      " churn       0     1   All\n",
      "partner                  \n",
      "0        1382   662  2044\n",
      "1        1515   384  1899\n",
      "All      2897  1046  3943\n",
      "\n",
      "expected:\n",
      "              0           1\n",
      "0  1501.767182  542.232818\n",
      "1  1395.232818  503.767182\n"
     ]
    },
    {
     "data": {
      "image/png": "[encoded data removed]",
      "text/plain": [
       "<Figure size 144x144 with 1 Axes>"
      ]
     },
     "metadata": {},
     "output_type": "display_data"
    },
    {
     "name": "stdout",
     "output_type": "stream",
     "text": [
      "\n",
      "_____________________\n",
      "\n",
      "dependents \n",
      "_____________________\n",
      "\n"
     ]
    },
    {
     "name": "stderr",
     "output_type": "stream",
     "text": [
      "/usr/local/anaconda3/lib/python3.8/site-packages/seaborn/_decorators.py:36: FutureWarning: Pass the following variables as keyword args: x, y. From version 0.12, the only valid positional argument will be `data`, and passing other arguments without an explicit keyword will result in an error or misinterpretation.\n",
      "  warnings.warn(\n"
     ]
    },
    {
     "name": "stdout",
     "output_type": "stream",
     "text": [
      "         chi2       p-value  degrees of freedom\n",
      "0  100.546984  1.156215e-23                   1\n",
      "\n",
      "observed:\n",
      " churn          0     1   All\n",
      "dependents                  \n",
      "0           1903   861  2764\n",
      "1            994   185  1179\n",
      "All         2897  1046  3943\n",
      "\n",
      "expected:\n",
      "              0           1\n",
      "0  2030.765407  733.234593\n",
      "1   866.234593  312.765407\n"
     ]
    },
    {
     "data": {
      "image/png": "[encoded data removed]",
      "text/plain": [
       "<Figure size 144x144 with 1 Axes>"
      ]
     },
     "metadata": {},
     "output_type": "display_data"
    },
    {
     "name": "stdout",
     "output_type": "stream",
     "text": [
      "\n",
      "_____________________\n",
      "\n",
      "multiple_lines \n",
      "_____________________\n",
      "\n"
     ]
    },
    {
     "name": "stderr",
     "output_type": "stream",
     "text": [
      "/usr/local/anaconda3/lib/python3.8/site-packages/seaborn/_decorators.py:36: FutureWarning: Pass the following variables as keyword args: x, y. From version 0.12, the only valid positional argument will be `data`, and passing other arguments without an explicit keyword will result in an error or misinterpretation.\n",
      "  warnings.warn(\n"
     ]
    },
    {
     "name": "stdout",
     "output_type": "stream",
     "text": [
      "    chi2   p-value  degrees of freedom\n",
      "0  6.928  0.031304                   2\n",
      "\n",
      "observed:\n",
      " churn              0     1   All\n",
      "multiple_lines                  \n",
      "-1               295    98   393\n",
      "0               1414   470  1884\n",
      "1               1188   478  1666\n",
      "All             2897  1046  3943\n",
      "\n",
      "expected:\n",
      "              0           1\n",
      "0   288.744864  104.255136\n",
      "1  1384.212021  499.787979\n",
      "2  1224.043114  441.956886\n"
     ]
    },
    {
     "data": {
      "image/png": "[encoded data removed]",
      "text/plain": [
       "<Figure size 144x144 with 1 Axes>"
      ]
     },
     "metadata": {},
     "output_type": "display_data"
    },
    {
     "name": "stdout",
     "output_type": "stream",
     "text": [
      "\n",
      "_____________________\n",
      "\n",
      "paperless_billing \n",
      "_____________________\n",
      "\n",
      "         chi2       p-value  degrees of freedom\n",
      "0  137.624538  8.804467e-32                   1\n",
      "\n",
      "observed:\n",
      " churn                 0     1   All\n",
      "paperless_billing                  \n",
      "0                  1350   269  1619\n",
      "1                  1547   777  2324\n",
      "All                2897  1046  3943\n",
      "\n",
      "expected:\n",
      "              0           1\n",
      "0  1189.511286  429.488714\n",
      "1  1707.488714  616.511286\n"
     ]
    },
    {
     "name": "stderr",
     "output_type": "stream",
     "text": [
      "/usr/local/anaconda3/lib/python3.8/site-packages/seaborn/_decorators.py:36: FutureWarning: Pass the following variables as keyword args: x, y. From version 0.12, the only valid positional argument will be `data`, and passing other arguments without an explicit keyword will result in an error or misinterpretation.\n",
      "  warnings.warn(\n"
     ]
    },
    {
     "data": {
      "image/png": "[encoded data removed]",
      "text/plain": [
       "<Figure size 144x144 with 1 Axes>"
      ]
     },
     "metadata": {},
     "output_type": "display_data"
    },
    {
     "name": "stdout",
     "output_type": "stream",
     "text": [
      "\n",
      "_____________________\n",
      "\n",
      "contract_type \n",
      "_____________________\n",
      "\n"
     ]
    },
    {
     "name": "stderr",
     "output_type": "stream",
     "text": [
      "/usr/local/anaconda3/lib/python3.8/site-packages/seaborn/_decorators.py:36: FutureWarning: Pass the following variables as keyword args: x, y. From version 0.12, the only valid positional argument will be `data`, and passing other arguments without an explicit keyword will result in an error or misinterpretation.\n",
      "  warnings.warn(\n"
     ]
    },
    {
     "name": "stdout",
     "output_type": "stream",
     "text": [
      "         chi2        p-value  degrees of freedom\n",
      "0  670.960699  2.007869e-146                   2\n",
      "\n",
      "observed:\n",
      " churn             0     1   All\n",
      "contract_type                  \n",
      "0              1234   928  2162\n",
      "1               723    84   807\n",
      "2               940    34   974\n",
      "All            2897  1046  3943\n",
      "\n",
      "expected:\n",
      "              0           1\n",
      "0  1588.464114  573.535886\n",
      "1   592.918844  214.081156\n",
      "2   715.617043  258.382957\n"
     ]
    },
    {
     "data": {
      "image/png": "[encoded data removed]",
      "text/plain": [
       "<Figure size 144x144 with 1 Axes>"
      ]
     },
     "metadata": {},
     "output_type": "display_data"
    },
    {
     "name": "stdout",
     "output_type": "stream",
     "text": [
      "\n",
      "_____________________\n",
      "\n",
      "internet_service_type \n",
      "_____________________\n",
      "\n"
     ]
    },
    {
     "name": "stderr",
     "output_type": "stream",
     "text": [
      "/usr/local/anaconda3/lib/python3.8/site-packages/seaborn/_decorators.py:36: FutureWarning: Pass the following variables as keyword args: x, y. From version 0.12, the only valid positional argument will be `data`, and passing other arguments without an explicit keyword will result in an error or misinterpretation.\n",
      "  warnings.warn(\n"
     ]
    },
    {
     "name": "stdout",
     "output_type": "stream",
     "text": [
      "         chi2       p-value  degrees of freedom\n",
      "0  398.382058  3.107673e-87                   2\n",
      "\n",
      "observed:\n",
      " churn                     0     1   All\n",
      "internet_service_type                  \n",
      "0                       775    63   838\n",
      "1                      1106   259  1365\n",
      "2                      1016   724  1740\n",
      "All                    2897  1046  3943\n",
      "\n",
      "expected:\n",
      "              0           1\n",
      "0   615.695156  222.304844\n",
      "1  1002.892468  362.107532\n",
      "2  1278.412376  461.587624\n"
     ]
    },
    {
     "data": {
      "image/png": "[encoded data removed]",
      "text/plain": [
       "<Figure size 144x144 with 1 Axes>"
      ]
     },
     "metadata": {},
     "output_type": "display_data"
    },
    {
     "name": "stdout",
     "output_type": "stream",
     "text": [
      "\n",
      "_____________________\n",
      "\n",
      "payment_type \n",
      "_____________________\n",
      "\n"
     ]
    },
    {
     "name": "stderr",
     "output_type": "stream",
     "text": [
      "/usr/local/anaconda3/lib/python3.8/site-packages/seaborn/_decorators.py:36: FutureWarning: Pass the following variables as keyword args: x, y. From version 0.12, the only valid positional argument will be `data`, and passing other arguments without an explicit keyword will result in an error or misinterpretation.\n",
      "  warnings.warn(\n"
     ]
    },
    {
     "name": "stdout",
     "output_type": "stream",
     "text": [
      "         chi2       p-value  degrees of freedom\n",
      "0  352.123842  5.173628e-76                   3\n",
      "\n",
      "observed:\n",
      " churn            0     1   All\n",
      "payment_type                  \n",
      "0              725   167   892\n",
      "1              725   595  1320\n",
      "2              730   149   879\n",
      "3              717   135   852\n",
      "All           2897  1046  3943\n",
      "\n",
      "expected:\n",
      "             0           1\n",
      "0  655.370023  236.629977\n",
      "1  969.830079  350.169921\n",
      "2  645.818666  233.181334\n",
      "3  625.981233  226.018767\n"
     ]
    },
    {
     "data": {
      "image/png": "[encoded data removed]",
      "text/plain": [
       "<Figure size 144x144 with 1 Axes>"
      ]
     },
     "metadata": {},
     "output_type": "display_data"
    },
    {
     "name": "stdout",
     "output_type": "stream",
     "text": [
      "\n",
      "_____________________\n",
      "\n",
      "automatic_pmt \n",
      "_____________________\n",
      "\n"
     ]
    },
    {
     "name": "stderr",
     "output_type": "stream",
     "text": [
      "/usr/local/anaconda3/lib/python3.8/site-packages/seaborn/_decorators.py:36: FutureWarning: Pass the following variables as keyword args: x, y. From version 0.12, the only valid positional argument will be `data`, and passing other arguments without an explicit keyword will result in an error or misinterpretation.\n",
      "  warnings.warn(\n"
     ]
    },
    {
     "name": "stdout",
     "output_type": "stream",
     "text": [
      "        chi2       p-value  degrees of freedom\n",
      "0  161.25169  6.028032e-37                   1\n",
      "\n",
      "observed:\n",
      " churn             0     1   All\n",
      "automatic_pmt                  \n",
      "0              1450   762  2212\n",
      "1              1447   284  1731\n",
      "All            2897  1046  3943\n",
      "\n",
      "expected:\n",
      "              0           1\n",
      "0  1625.200101  586.799899\n",
      "1  1271.799899  459.200101\n"
     ]
    },
    {
     "data": {
      "image/png": "[encoded data removed]",
      "text/plain": [
       "<Figure size 144x144 with 1 Axes>"
      ]
     },
     "metadata": {},
     "output_type": "display_data"
    },
    {
     "name": "stdout",
     "output_type": "stream",
     "text": [
      "\n",
      "_____________________\n",
      "\n",
      "online_utility \n",
      "_____________________\n",
      "\n"
     ]
    },
    {
     "name": "stderr",
     "output_type": "stream",
     "text": [
      "/usr/local/anaconda3/lib/python3.8/site-packages/seaborn/_decorators.py:36: FutureWarning: Pass the following variables as keyword args: x, y. From version 0.12, the only valid positional argument will be `data`, and passing other arguments without an explicit keyword will result in an error or misinterpretation.\n",
      "  warnings.warn(\n"
     ]
    },
    {
     "name": "stdout",
     "output_type": "stream",
     "text": [
      "         chi2        p-value  degrees of freedom\n",
      "0  688.727914  9.614147e-148                   4\n",
      "\n",
      "observed:\n",
      " churn              0     1   All\n",
      "online_utility                  \n",
      "-3               775    63   838\n",
      "0                419   507   926\n",
      "1                689   337  1026\n",
      "2                637   113   750\n",
      "3                377    26   403\n",
      "All             2897  1046  3943\n",
      "\n",
      "expected:\n",
      "             0           1\n",
      "0  615.695156  222.304844\n",
      "1  680.350495  245.649505\n",
      "2  753.822470  272.177530\n",
      "3  551.039817  198.960183\n",
      "4  296.092062  106.907938\n"
     ]
    },
    {
     "data": {
      "image/png": "[encoded data removed]",
      "text/plain": [
       "<Figure size 144x144 with 1 Axes>"
      ]
     },
     "metadata": {},
     "output_type": "display_data"
    },
    {
     "name": "stdout",
     "output_type": "stream",
     "text": [
      "\n",
      "_____________________\n",
      "\n",
      "streaming \n",
      "_____________________\n",
      "\n"
     ]
    },
    {
     "name": "stderr",
     "output_type": "stream",
     "text": [
      "/usr/local/anaconda3/lib/python3.8/site-packages/seaborn/_decorators.py:36: FutureWarning: Pass the following variables as keyword args: x, y. From version 0.12, the only valid positional argument will be `data`, and passing other arguments without an explicit keyword will result in an error or misinterpretation.\n",
      "  warnings.warn(\n"
     ]
    },
    {
     "name": "stdout",
     "output_type": "stream",
     "text": [
      "         chi2       p-value  degrees of freedom\n",
      "0  202.117748  1.470835e-43                   3\n",
      "\n",
      "observed:\n",
      " churn         0     1   All\n",
      "streaming                  \n",
      "-2          775    63   838\n",
      "0           752   380  1132\n",
      "1           602   282   884\n",
      "2           768   321  1089\n",
      "All        2897  1046  3943\n",
      "\n",
      "expected:\n",
      "             0           1\n",
      "0  615.695156  222.304844\n",
      "1  831.702764  300.297236\n",
      "2  649.492265  234.507735\n",
      "3  800.109815  288.890185\n"
     ]
    },
    {
     "data": {
      "image/png": "[encoded data removed]",
      "text/plain": [
       "<Figure size 144x144 with 1 Axes>"
      ]
     },
     "metadata": {},
     "output_type": "display_data"
    },
    {
     "name": "stdout",
     "output_type": "stream",
     "text": [
      "\n",
      "_____________________\n",
      "\n",
      "tenure \n",
      "____________________\n",
      "\n"
     ]
    },
    {
     "name": "stderr",
     "output_type": "stream",
     "text": [
      "/usr/local/anaconda3/lib/python3.8/site-packages/seaborn/categorical.py:1296: UserWarning: 78.6% of the points cannot be placed; you may want to decrease the size of the markers or use stripplot.\n",
      "  warnings.warn(msg, UserWarning)\n",
      "/usr/local/anaconda3/lib/python3.8/site-packages/seaborn/categorical.py:1296: UserWarning: 52.2% of the points cannot be placed; you may want to decrease the size of the markers or use stripplot.\n",
      "  warnings.warn(msg, UserWarning)\n"
     ]
    },
    {
     "data": {
      "image/png": "[encoded data removed]",
      "text/plain": [
       "<Figure size 288x288 with 1 Axes>"
      ]
     },
     "metadata": {},
     "output_type": "display_data"
    },
    {
     "name": "stdout",
     "output_type": "stream",
     "text": [
      "        count       mean        std  min   25%   50%   75%   max\n",
      "churn                                                           \n",
      "0      2897.0  37.853642  23.956034  0.0  16.0  38.0  61.0  72.0\n",
      "1      1046.0  18.327916  19.709773  1.0   2.0  10.0  30.0  72.0 \n",
      "\n",
      "\n",
      "Mann-Whitney Test:\n",
      " MannwhitneyuResult(statistic=2242516.5, pvalue=1.1957988576110993e-117)\n",
      "\n",
      "____________________\n",
      "\n",
      "monthly_charges \n",
      "____________________\n",
      "\n"
     ]
    },
    {
     "name": "stderr",
     "output_type": "stream",
     "text": [
      "/usr/local/anaconda3/lib/python3.8/site-packages/seaborn/categorical.py:1296: UserWarning: 77.5% of the points cannot be placed; you may want to decrease the size of the markers or use stripplot.\n",
      "  warnings.warn(msg, UserWarning)\n",
      "/usr/local/anaconda3/lib/python3.8/site-packages/seaborn/categorical.py:1296: UserWarning: 53.9% of the points cannot be placed; you may want to decrease the size of the markers or use stripplot.\n",
      "  warnings.warn(msg, UserWarning)\n"
     ]
    },
    {
     "data": {
      "image/png": "[encoded data removed]",
      "text/plain": [
       "<Figure size 288x288 with 1 Axes>"
      ]
     },
     "metadata": {},
     "output_type": "display_data"
    },
    {
     "name": "stdout",
     "output_type": "stream",
     "text": [
      "        count       mean        std    min    25%     50%      75%     max\n",
      "churn                                                                     \n",
      "0      2897.0  61.680877  31.166578  18.55  25.15  64.900  88.9000  118.65\n",
      "1      1046.0  74.580115  24.696621  18.85  56.25  79.925  94.3875  116.20 \n",
      "\n",
      "\n",
      "Mann-Whitney Test:\n",
      " MannwhitneyuResult(statistic=1160715.0, pvalue=2.891105812698731e-29)\n",
      "\n",
      "____________________\n",
      "\n"
     ]
    }
   ],
   "source": [
    "# Bivariate exploration\n",
    "\n",
    "# Remove the target (churn), because the target gets its own place\n",
    "# in the bivariate explore function call\n",
    "cat_vars_no_target = ['senior_citizen', 'partner', 'dependents','multiple_lines',\n",
    "            'paperless_billing','contract_type','internet_service_type',\n",
    "            'payment_type','automatic_pmt','online_utility','streaming']\n",
    "\n",
    "explore.explore_bivariate(train, 'churn', cat_vars_no_target, quant_vars)"
   ]
  },
  {
   "cell_type": "markdown",
   "id": "9dddbd1e",
   "metadata": {},
   "source": [
    "### Takeaways for bivariate exploration:"
   ]
  },
  {
   "cell_type": "code",
   "execution_count": null,
   "id": "3a127491",
   "metadata": {},
   "outputs": [],
   "source": [
    "# Multivariate exploration using function from explore.py\n",
    "\n",
    "# explore.explore_multivariate(train, 'churn', cat_vars, quant_vars)\n",
    "# I received error message saying that points could not be placed on plots,\n",
    "# and to reduce marker size or use stripplot\n",
    "\n",
    "# I will attempt to resolve these errors by removing less important categorical features\n",
    "# Looking at chi2 plots from bivariate analysis:\n",
    "# only gender and phone service were not statistically significant\n",
    "# Phone service can also be determined from the multiple lines feature\n",
    "# I also dropped total_charges because it is totally out of scale with everything else\n",
    "# Also, monthly charges and tenure are better features than total_charges\n",
    "\n",
    "# I will next try combining similar features:\n",
    "# The online features were all utility, and did not seem popular in the univariate analysis\n",
    "# bells_whistles = online_security + online_backup + tech_support\n",
    "\n",
    "# streaming_tv and streaming_movies were similar and so were combined into one feature\n",
    "\n",
    "\n",
    "\n",
    "\n",
    "\n",
    "\n",
    "\n",
    "#explore.explore_multivariate(train, 'churn', cat_vars, quant_vars)\n",
    "\n",
    "\n",
    "\n",
    "# I don't want to drop chi2 statistically significant features,\n",
    "# so I will use another method"
   ]
  },
  {
   "cell_type": "code",
   "execution_count": null,
   "id": "afdd9144",
   "metadata": {
    "scrolled": true
   },
   "outputs": [],
   "source": [
    "# Melt the training subset for exploration\n",
    "# There are no null values\n",
    "\n",
    "melted = train.melt(id_vars = 'churn')\n",
    "melted.info()"
   ]
  },
  {
   "cell_type": "code",
   "execution_count": 48,
   "id": "a845c4fc",
   "metadata": {},
   "outputs": [
    {
     "data": {
      "text/html": [
       "<div>\n",
       "<style scoped>\n",
       "    .dataframe tbody tr th:only-of-type {\n",
       "        vertical-align: middle;\n",
       "    }\n",
       "\n",
       "    .dataframe tbody tr th {\n",
       "        vertical-align: top;\n",
       "    }\n",
       "\n",
       "    .dataframe thead th {\n",
       "        text-align: right;\n",
       "    }\n",
       "</style>\n",
       "<table border=\"1\" class=\"dataframe\">\n",
       "  <thead>\n",
       "    <tr style=\"text-align: right;\">\n",
       "      <th></th>\n",
       "      <th>churn</th>\n",
       "      <th>variable</th>\n",
       "      <th>value</th>\n",
       "    </tr>\n",
       "  </thead>\n",
       "  <tbody>\n",
       "    <tr>\n",
       "      <th>0</th>\n",
       "      <td>0</td>\n",
       "      <td>senior_citizen</td>\n",
       "      <td>0.0</td>\n",
       "    </tr>\n",
       "    <tr>\n",
       "      <th>1</th>\n",
       "      <td>0</td>\n",
       "      <td>senior_citizen</td>\n",
       "      <td>0.0</td>\n",
       "    </tr>\n",
       "    <tr>\n",
       "      <th>2</th>\n",
       "      <td>0</td>\n",
       "      <td>senior_citizen</td>\n",
       "      <td>1.0</td>\n",
       "    </tr>\n",
       "    <tr>\n",
       "      <th>3</th>\n",
       "      <td>0</td>\n",
       "      <td>senior_citizen</td>\n",
       "      <td>0.0</td>\n",
       "    </tr>\n",
       "    <tr>\n",
       "      <th>4</th>\n",
       "      <td>0</td>\n",
       "      <td>senior_citizen</td>\n",
       "      <td>0.0</td>\n",
       "    </tr>\n",
       "  </tbody>\n",
       "</table>\n",
       "</div>"
      ],
      "text/plain": [
       "   churn        variable  value\n",
       "0      0  senior_citizen    0.0\n",
       "1      0  senior_citizen    0.0\n",
       "2      0  senior_citizen    1.0\n",
       "3      0  senior_citizen    0.0\n",
       "4      0  senior_citizen    0.0"
      ]
     },
     "execution_count": 48,
     "metadata": {},
     "output_type": "execute_result"
    }
   ],
   "source": [
    "melted.head()"
   ]
  },
  {
   "cell_type": "code",
   "execution_count": 49,
   "id": "8c48d0d4",
   "metadata": {},
   "outputs": [
    {
     "data": {
      "text/plain": [
       "<AxesSubplot:xlabel='variable', ylabel='value'>"
      ]
     },
     "execution_count": 49,
     "metadata": {},
     "output_type": "execute_result"
    },
    {
     "data": {
      "image/png": "[encoded data removed]",
      "text/plain": [
       "<Figure size 432x288 with 1 Axes>"
      ]
     },
     "metadata": {},
     "output_type": "display_data"
    }
   ],
   "source": [
    "sns.stripplot(data=melted, x='variable', y='value', hue='churn')"
   ]
  },
  {
   "cell_type": "code",
   "execution_count": null,
   "id": "366723bb",
   "metadata": {},
   "outputs": [],
   "source": [
    "df.info()"
   ]
  },
  {
   "cell_type": "code",
   "execution_count": null,
   "id": "05e21124",
   "metadata": {},
   "outputs": [],
   "source": [
    "# create X & y version of train, where y is a series with just the target variable \n",
    "# and X are all the features except the target variable. \n",
    "\n",
    "#X_train = train.drop(columns=['churn'])\n",
    "#y_train = train.churn\n",
    "\n",
    "#X_validate = validate.drop(columns=['churn'])\n",
    "#y_validate = validate.churn\n",
    "\n",
    "#X_test = test.drop(columns=['churn'])\n",
    "#y_test = test.churn"
   ]
  },
  {
   "cell_type": "code",
   "execution_count": null,
   "id": "0d88f176",
   "metadata": {},
   "outputs": [],
   "source": [
    "#X_train.head()"
   ]
  },
  {
   "cell_type": "code",
   "execution_count": null,
   "id": "b5c19b57",
   "metadata": {},
   "outputs": [],
   "source": [
    "#y_train.head()"
   ]
  },
  {
   "cell_type": "code",
   "execution_count": null,
   "id": "6cf7c526",
   "metadata": {},
   "outputs": [],
   "source": []
  }
 ],
 "metadata": {
  "kernelspec": {
   "display_name": "Python 3",
   "language": "python",
   "name": "python3"
  },
  "language_info": {
   "codemirror_mode": {
    "name": "ipython",
    "version": 3
   },
   "file_extension": ".py",
   "mimetype": "text/x-python",
   "name": "python",
   "nbconvert_exporter": "python",
   "pygments_lexer": "ipython3",
   "version": "3.8.8"
  }
 },
 "nbformat": 4,
 "nbformat_minor": 5
}
